{
 "cells": [
  {
   "cell_type": "code",
   "execution_count": 1,
   "metadata": {},
   "outputs": [],
   "source": [
    "# Import das bibliotecas instaladas\n",
    "\n",
    "# Import da biblioteca necessária para acessar, análisar e manipular\n",
    "# dados\n",
    "import pandas as pd\n",
    "\n",
    "# import da biblioteca que possibilita manipular arrays\n",
    "import numpy as np\n",
    "\n",
    "# import da biblioteca que irá possibilitar a criação de\n",
    "# gráficos interativos\n",
    "import plotly.graph_objects as go\n",
    "\n",
    "# A biblioteca plotly.subplots import make_subplots é uma ferramenta poderosa dentro do Python, especialmente quando se trabalha com visualização de dados utilizando a biblioteca Plotly. Ela permite criar subplots, ou seja, múltiplos gráficos em uma única figura, o que é muito útil para comparar diferentes conjuntos de dados ou visualizar diversas dimensões de um mesmo conjunto de dados.\n",
    "\n",
    "# Subplots são, basicamente, gráficos menores que residem dentro de um gráfico maior, permitindo que você organize visualizações distintas lado a lado, em cima e embaixo, ou em qualquer configuração de grade 1  que desejar.\n",
    "\n",
    "from plotly.subplots import make_subplots\n",
    "\n",
    "\n",
    "# biblioteca que irá acessar a pagina web através de requisições http.\n",
    "# Permite simular um navegador, enviando requisições GET, POST e outros tipos para obter o conteúdo HTML de uma página.\n",
    "import requests\n",
    "\n",
    "# Irá extrair os dados da página html. Transforma o conteúdo HTML em um objeto Python que pode ser facilmente navegado e manipulado. Permite buscar elementos por tags, classes, IDs e outros atributos.\n",
    "from bs4 import BeautifulSoup\n",
    "\n",
    "# Biblioteca que permite manipular a exibição de avisos.\n",
    "# Observação: Os avisos não são mensagens de erros, são\n",
    "# avisos que não interrompem a execução de um programa\n",
    "# com o objetivo de alertar o usuário sobre algum possivel\n",
    "# problema no código ou uma sintaxe que entrará em desuso.\n",
    "import warnings\n",
    "\n",
    "# Vamos filtrar os warnings para evitar que eles apareçam\n",
    "warnings.filterwarnings('ignore')\n",
    "\n",
    "# link do projeto: https://pt.wikipedia.org/wiki/Lista_de_pa%C3%ADses_por_PIB_nominal\n",
    "\n",
    "\n",
    "\n",
    "\n",
    "\n",
    "\n"
   ]
  },
  {
   "cell_type": "markdown",
   "metadata": {},
   "source": [
    "Acessando o site usando o pandas"
   ]
  },
  {
   "cell_type": "code",
   "execution_count": 2,
   "metadata": {},
   "outputs": [],
   "source": [
    "url = 'https://pt.wikipedia.org/wiki/Lista_de_pa%C3%ADses_por_PIB_nominal'\n",
    "\n",
    "tabelas_web = pd.read_html(url)"
   ]
  },
  {
   "cell_type": "markdown",
   "metadata": {},
   "source": [
    "Verificando a quantidade de tabelas/objetos encontradas usando a função len"
   ]
  },
  {
   "cell_type": "code",
   "execution_count": 3,
   "metadata": {},
   "outputs": [
    {
     "data": {
      "text/plain": [
       "9"
      ]
     },
     "execution_count": 3,
     "metadata": {},
     "output_type": "execute_result"
    }
   ],
   "source": [
    "len(tabelas_web)"
   ]
  },
  {
   "cell_type": "markdown",
   "metadata": {},
   "source": [
    "Acessando os objetos encontrados"
   ]
  },
  {
   "cell_type": "code",
   "execution_count": 4,
   "metadata": {},
   "outputs": [
    {
     "data": {
      "text/html": [
       "<div>\n",
       "<style scoped>\n",
       "    .dataframe tbody tr th:only-of-type {\n",
       "        vertical-align: middle;\n",
       "    }\n",
       "\n",
       "    .dataframe tbody tr th {\n",
       "        vertical-align: top;\n",
       "    }\n",
       "\n",
       "    .dataframe thead tr th {\n",
       "        text-align: left;\n",
       "    }\n",
       "</style>\n",
       "<table border=\"1\" class=\"dataframe\">\n",
       "  <thead>\n",
       "    <tr>\n",
       "      <th></th>\n",
       "      <th>País/Território</th>\n",
       "      <th>Região ONU</th>\n",
       "      <th colspan=\"2\" halign=\"left\">FMI[26][27]</th>\n",
       "      <th colspan=\"2\" halign=\"left\">Banco Mundial[28]</th>\n",
       "      <th colspan=\"2\" halign=\"left\">Nações Unidas[29]</th>\n",
       "    </tr>\n",
       "    <tr>\n",
       "      <th></th>\n",
       "      <th>País/Território</th>\n",
       "      <th>Região ONU</th>\n",
       "      <th>Estimativa</th>\n",
       "      <th>Ano</th>\n",
       "      <th>Estimativa</th>\n",
       "      <th>Ano</th>\n",
       "      <th>Estimativa</th>\n",
       "      <th>Ano</th>\n",
       "    </tr>\n",
       "    <tr>\n",
       "      <th></th>\n",
       "      <th>Mundo</th>\n",
       "      <th>—</th>\n",
       "      <th>101,560,901</th>\n",
       "      <th>2024</th>\n",
       "      <th>96,100,091</th>\n",
       "      <th>2021</th>\n",
       "      <th>85,328,323</th>\n",
       "      <th>2020</th>\n",
       "    </tr>\n",
       "  </thead>\n",
       "  <tbody>\n",
       "    <tr>\n",
       "      <th>0</th>\n",
       "      <td>Estados Unidos</td>\n",
       "      <td>América</td>\n",
       "      <td>28781083</td>\n",
       "      <td>2024</td>\n",
       "      <td>23320000</td>\n",
       "      <td>2021</td>\n",
       "      <td>21060000</td>\n",
       "      <td>2020</td>\n",
       "    </tr>\n",
       "    <tr>\n",
       "      <th>1</th>\n",
       "      <td>China</td>\n",
       "      <td>Ásia</td>\n",
       "      <td>18532633</td>\n",
       "      <td>[n 1]2024</td>\n",
       "      <td>17820000</td>\n",
       "      <td>[n 2]2021</td>\n",
       "      <td>14690000</td>\n",
       "      <td>[n 1]2020</td>\n",
       "    </tr>\n",
       "    <tr>\n",
       "      <th>2</th>\n",
       "      <td>Alemanha</td>\n",
       "      <td>Europa</td>\n",
       "      <td>4591100</td>\n",
       "      <td>2024</td>\n",
       "      <td>4280000</td>\n",
       "      <td>2021</td>\n",
       "      <td>3890000</td>\n",
       "      <td>2020</td>\n",
       "    </tr>\n",
       "    <tr>\n",
       "      <th>3</th>\n",
       "      <td>Japão</td>\n",
       "      <td>Ásia</td>\n",
       "      <td>4110452</td>\n",
       "      <td>2024</td>\n",
       "      <td>5030000</td>\n",
       "      <td>2021</td>\n",
       "      <td>5060000</td>\n",
       "      <td>2020</td>\n",
       "    </tr>\n",
       "    <tr>\n",
       "      <th>4</th>\n",
       "      <td>Índia</td>\n",
       "      <td>Ásia</td>\n",
       "      <td>3937011</td>\n",
       "      <td>2024</td>\n",
       "      <td>3150000</td>\n",
       "      <td>2021</td>\n",
       "      <td>2670000</td>\n",
       "      <td>2020</td>\n",
       "    </tr>\n",
       "  </tbody>\n",
       "</table>\n",
       "</div>"
      ],
      "text/plain": [
       "  País/Território Região ONU FMI[26][27]            Banco Mundial[28]  \\\n",
       "  País/Território Região ONU  Estimativa        Ano        Estimativa   \n",
       "            Mundo          — 101,560,901       2024        96,100,091   \n",
       "0  Estados Unidos    América    28781083       2024          23320000   \n",
       "1           China       Ásia    18532633  [n 1]2024          17820000   \n",
       "2        Alemanha     Europa     4591100       2024           4280000   \n",
       "3           Japão       Ásia     4110452       2024           5030000   \n",
       "4           Índia       Ásia     3937011       2024           3150000   \n",
       "\n",
       "             Nações Unidas[29]             \n",
       "         Ano        Estimativa        Ano  \n",
       "        2021        85,328,323       2020  \n",
       "0       2021          21060000       2020  \n",
       "1  [n 2]2021          14690000  [n 1]2020  \n",
       "2       2021           3890000       2020  \n",
       "3       2021           5060000       2020  \n",
       "4       2021           2670000       2020  "
      ]
     },
     "execution_count": 4,
     "metadata": {},
     "output_type": "execute_result"
    }
   ],
   "source": [
    "# Agora que ja acessamos o sistema, teremoe acesso a todos os objetos e \n",
    "# tabelas encontradas no site html. Para acessar uma tabela especifica,\n",
    "# basta inidcar o indice que você quer utilizar, por exemplo.\n",
    "\n",
    "tabelas_web[2].head()"
   ]
  },
  {
   "cell_type": "markdown",
   "metadata": {},
   "source": [
    "Vamos atribuir a uma variável, a tabela que iremos utilizar na construção da análise"
   ]
  },
  {
   "cell_type": "code",
   "execution_count": 5,
   "metadata": {},
   "outputs": [],
   "source": [
    "tabela_pib = tabelas_web[2]"
   ]
  },
  {
   "cell_type": "markdown",
   "metadata": {},
   "source": [
    "Verificando a quantidade de linhas e colunas da tabela"
   ]
  },
  {
   "cell_type": "code",
   "execution_count": 6,
   "metadata": {},
   "outputs": [
    {
     "data": {
      "text/plain": [
       "(216, 8)"
      ]
     },
     "execution_count": 6,
     "metadata": {},
     "output_type": "execute_result"
    }
   ],
   "source": [
    "tabela_pib.shape\n",
    "\n",
    "# A tabela possui 216 linhas e 8 colunas"
   ]
  },
  {
   "cell_type": "markdown",
   "metadata": {},
   "source": [
    "Verificando quais linhas possuem valores nulos usando a funçaõ isnull()"
   ]
  },
  {
   "cell_type": "code",
   "execution_count": 7,
   "metadata": {},
   "outputs": [
    {
     "data": {
      "text/html": [
       "<div>\n",
       "<style scoped>\n",
       "    .dataframe tbody tr th:only-of-type {\n",
       "        vertical-align: middle;\n",
       "    }\n",
       "\n",
       "    .dataframe tbody tr th {\n",
       "        vertical-align: top;\n",
       "    }\n",
       "\n",
       "    .dataframe thead tr th {\n",
       "        text-align: left;\n",
       "    }\n",
       "</style>\n",
       "<table border=\"1\" class=\"dataframe\">\n",
       "  <thead>\n",
       "    <tr>\n",
       "      <th></th>\n",
       "      <th>País/Território</th>\n",
       "      <th>Região ONU</th>\n",
       "      <th colspan=\"2\" halign=\"left\">FMI[26][27]</th>\n",
       "      <th colspan=\"2\" halign=\"left\">Banco Mundial[28]</th>\n",
       "      <th colspan=\"2\" halign=\"left\">Nações Unidas[29]</th>\n",
       "    </tr>\n",
       "    <tr>\n",
       "      <th></th>\n",
       "      <th>País/Território</th>\n",
       "      <th>Região ONU</th>\n",
       "      <th>Estimativa</th>\n",
       "      <th>Ano</th>\n",
       "      <th>Estimativa</th>\n",
       "      <th>Ano</th>\n",
       "      <th>Estimativa</th>\n",
       "      <th>Ano</th>\n",
       "    </tr>\n",
       "    <tr>\n",
       "      <th></th>\n",
       "      <th>Mundo</th>\n",
       "      <th>—</th>\n",
       "      <th>101,560,901</th>\n",
       "      <th>2024</th>\n",
       "      <th>96,100,091</th>\n",
       "      <th>2021</th>\n",
       "      <th>85,328,323</th>\n",
       "      <th>2020</th>\n",
       "    </tr>\n",
       "  </thead>\n",
       "  <tbody>\n",
       "    <tr>\n",
       "      <th>0</th>\n",
       "      <td>False</td>\n",
       "      <td>False</td>\n",
       "      <td>False</td>\n",
       "      <td>False</td>\n",
       "      <td>False</td>\n",
       "      <td>False</td>\n",
       "      <td>False</td>\n",
       "      <td>False</td>\n",
       "    </tr>\n",
       "    <tr>\n",
       "      <th>1</th>\n",
       "      <td>False</td>\n",
       "      <td>False</td>\n",
       "      <td>False</td>\n",
       "      <td>False</td>\n",
       "      <td>False</td>\n",
       "      <td>False</td>\n",
       "      <td>False</td>\n",
       "      <td>False</td>\n",
       "    </tr>\n",
       "    <tr>\n",
       "      <th>2</th>\n",
       "      <td>False</td>\n",
       "      <td>False</td>\n",
       "      <td>False</td>\n",
       "      <td>False</td>\n",
       "      <td>False</td>\n",
       "      <td>False</td>\n",
       "      <td>False</td>\n",
       "      <td>False</td>\n",
       "    </tr>\n",
       "    <tr>\n",
       "      <th>3</th>\n",
       "      <td>False</td>\n",
       "      <td>False</td>\n",
       "      <td>False</td>\n",
       "      <td>False</td>\n",
       "      <td>False</td>\n",
       "      <td>False</td>\n",
       "      <td>False</td>\n",
       "      <td>False</td>\n",
       "    </tr>\n",
       "    <tr>\n",
       "      <th>4</th>\n",
       "      <td>False</td>\n",
       "      <td>False</td>\n",
       "      <td>False</td>\n",
       "      <td>False</td>\n",
       "      <td>False</td>\n",
       "      <td>False</td>\n",
       "      <td>False</td>\n",
       "      <td>False</td>\n",
       "    </tr>\n",
       "    <tr>\n",
       "      <th>...</th>\n",
       "      <td>...</td>\n",
       "      <td>...</td>\n",
       "      <td>...</td>\n",
       "      <td>...</td>\n",
       "      <td>...</td>\n",
       "      <td>...</td>\n",
       "      <td>...</td>\n",
       "      <td>...</td>\n",
       "    </tr>\n",
       "    <tr>\n",
       "      <th>211</th>\n",
       "      <td>False</td>\n",
       "      <td>False</td>\n",
       "      <td>False</td>\n",
       "      <td>False</td>\n",
       "      <td>False</td>\n",
       "      <td>False</td>\n",
       "      <td>False</td>\n",
       "      <td>False</td>\n",
       "    </tr>\n",
       "    <tr>\n",
       "      <th>212</th>\n",
       "      <td>False</td>\n",
       "      <td>False</td>\n",
       "      <td>False</td>\n",
       "      <td>False</td>\n",
       "      <td>False</td>\n",
       "      <td>False</td>\n",
       "      <td>False</td>\n",
       "      <td>False</td>\n",
       "    </tr>\n",
       "    <tr>\n",
       "      <th>213</th>\n",
       "      <td>False</td>\n",
       "      <td>False</td>\n",
       "      <td>False</td>\n",
       "      <td>False</td>\n",
       "      <td>False</td>\n",
       "      <td>False</td>\n",
       "      <td>False</td>\n",
       "      <td>False</td>\n",
       "    </tr>\n",
       "    <tr>\n",
       "      <th>214</th>\n",
       "      <td>False</td>\n",
       "      <td>False</td>\n",
       "      <td>False</td>\n",
       "      <td>False</td>\n",
       "      <td>False</td>\n",
       "      <td>False</td>\n",
       "      <td>False</td>\n",
       "      <td>False</td>\n",
       "    </tr>\n",
       "    <tr>\n",
       "      <th>215</th>\n",
       "      <td>False</td>\n",
       "      <td>False</td>\n",
       "      <td>False</td>\n",
       "      <td>False</td>\n",
       "      <td>False</td>\n",
       "      <td>False</td>\n",
       "      <td>False</td>\n",
       "      <td>False</td>\n",
       "    </tr>\n",
       "  </tbody>\n",
       "</table>\n",
       "<p>216 rows × 8 columns</p>\n",
       "</div>"
      ],
      "text/plain": [
       "    País/Território Região ONU FMI[26][27]        Banco Mundial[28]         \\\n",
       "    País/Território Região ONU  Estimativa    Ano        Estimativa    Ano   \n",
       "              Mundo          — 101,560,901   2024        96,100,091   2021   \n",
       "0             False      False       False  False             False  False   \n",
       "1             False      False       False  False             False  False   \n",
       "2             False      False       False  False             False  False   \n",
       "3             False      False       False  False             False  False   \n",
       "4             False      False       False  False             False  False   \n",
       "..              ...        ...         ...    ...               ...    ...   \n",
       "211           False      False       False  False             False  False   \n",
       "212           False      False       False  False             False  False   \n",
       "213           False      False       False  False             False  False   \n",
       "214           False      False       False  False             False  False   \n",
       "215           False      False       False  False             False  False   \n",
       "\n",
       "    Nações Unidas[29]         \n",
       "           Estimativa    Ano  \n",
       "           85,328,323   2020  \n",
       "0               False  False  \n",
       "1               False  False  \n",
       "2               False  False  \n",
       "3               False  False  \n",
       "4               False  False  \n",
       "..                ...    ...  \n",
       "211             False  False  \n",
       "212             False  False  \n",
       "213             False  False  \n",
       "214             False  False  \n",
       "215             False  False  \n",
       "\n",
       "[216 rows x 8 columns]"
      ]
     },
     "execution_count": 7,
     "metadata": {},
     "output_type": "execute_result"
    }
   ],
   "source": [
    "# O método isnull retorna valores booleanos onde verdadeiro representa\n",
    "# a existência de valores nulos, e falso representa a ausencia de valores\n",
    "# nulos.\n",
    "\n",
    "tabela_pib.isnull()"
   ]
  },
  {
   "cell_type": "markdown",
   "metadata": {},
   "source": [
    "Verificando o total de valores nulos da tabela usando a função sum()"
   ]
  },
  {
   "cell_type": "code",
   "execution_count": 27,
   "metadata": {},
   "outputs": [
    {
     "data": {
      "text/plain": [
       "País/Território    País/Território  Mundo          0\n",
       "Região ONU         Região ONU       —              0\n",
       "FMI[26][27]        Estimativa       101,560,901    0\n",
       "                   Ano              2024           0\n",
       "Banco Mundial[28]  Estimativa       96,100,091     0\n",
       "                   Ano              2021           0\n",
       "Nações Unidas[29]  Estimativa       85,328,323     0\n",
       "                   Ano              2020           0\n",
       "dtype: int64"
      ]
     },
     "execution_count": 27,
     "metadata": {},
     "output_type": "execute_result"
    }
   ],
   "source": [
    "tabela_pib.isnull().sum()\n",
    "\n",
    "# Ira retornar a quantidade de valores nulos em cada coluna da tabela."
   ]
  },
  {
   "cell_type": "markdown",
   "metadata": {},
   "source": [
    "Verificando o tipo de dado de cada tabela"
   ]
  },
  {
   "cell_type": "code",
   "execution_count": 7,
   "metadata": {},
   "outputs": [
    {
     "data": {
      "text/plain": [
       "País/Território    País/Território  Mundo          object\n",
       "Região ONU         Região ONU       —              object\n",
       "FMI[26][27]        Estimativa       101,560,901    object\n",
       "                   Ano              2024           object\n",
       "Banco Mundial[28]  Estimativa       96,100,091     object\n",
       "                   Ano              2021           object\n",
       "Nações Unidas[29]  Estimativa       85,328,323     object\n",
       "                   Ano              2020           object\n",
       "dtype: object"
      ]
     },
     "execution_count": 7,
     "metadata": {},
     "output_type": "execute_result"
    }
   ],
   "source": [
    "tabela_pib.dtypes"
   ]
  },
  {
   "cell_type": "markdown",
   "metadata": {},
   "source": [
    "Como vimos acima, será necessário realizar algumas conversões de tipos"
   ]
  },
  {
   "cell_type": "code",
   "execution_count": 9,
   "metadata": {},
   "outputs": [
    {
     "name": "stdout",
     "output_type": "stream",
     "text": [
      "<class 'pandas.core.frame.DataFrame'>\n",
      "RangeIndex: 216 entries, 0 to 215\n",
      "Data columns (total 8 columns):\n",
      " #   Column                                       Non-Null Count  Dtype \n",
      "---  ------                                       --------------  ----- \n",
      " 0   (País/Território, País/Território, Mundo)    216 non-null    object\n",
      " 1   (Região ONU, Região ONU, —)                  216 non-null    object\n",
      " 2   (FMI[26][27], Estimativa, 101,560,901)       216 non-null    object\n",
      " 3   (FMI[26][27], Ano, 2024)                     216 non-null    object\n",
      " 4   (Banco Mundial[28], Estimativa, 96,100,091)  216 non-null    object\n",
      " 5   (Banco Mundial[28], Ano, 2021)               216 non-null    object\n",
      " 6   (Nações Unidas[29], Estimativa, 85,328,323)  216 non-null    object\n",
      " 7   (Nações Unidas[29], Ano, 2020)               216 non-null    object\n",
      "dtypes: object(8)\n",
      "memory usage: 13.6+ KB\n"
     ]
    }
   ],
   "source": [
    "# Vamos usar o info para verificar como as colunas estão organizadas\n",
    "tabela_pib.info()"
   ]
  },
  {
   "cell_type": "markdown",
   "metadata": {},
   "source": [
    "Convertendo as colunas necessárias  para o tipo numérico (Colunas de estimativas)"
   ]
  },
  {
   "cell_type": "code",
   "execution_count": 8,
   "metadata": {},
   "outputs": [],
   "source": [
    "\n",
    "# Para realizar a conversão para um tipo numérico, vamos usar o uma função\n",
    "# da biblioteca pandas, o to_numeric que ira receber como argumento a\n",
    "# coluna que será convertida e o errors de valor coerce, que irá transformar\n",
    "# em nulo, todos os valores que não podem ser convertidos para um tipo numérico\n",
    "\n",
    "tabela_pib['FMI[26][27]','Estimativa','101,560,901'] = pd.to_numeric(tabela_pib['FMI[26][27]','Estimativa','101,560,901'], errors='coerce')\n",
    "\n",
    "tabela_pib['Banco Mundial[28]', 'Estimativa','96,100,091'] = pd.to_numeric(tabela_pib['Banco Mundial[28]', 'Estimativa','96,100,091'], errors='coerce')\n",
    "\n",
    "tabela_pib['Nações Unidas[29]', 'Estimativa','85,328,323'] = pd.to_numeric(tabela_pib['Nações Unidas[29]', 'Estimativa','85,328,323'], errors='coerce')"
   ]
  },
  {
   "cell_type": "markdown",
   "metadata": {},
   "source": [
    "Verificando se as conversões de estimativas foram realizadas com sucesso foram realizadas com sucesso"
   ]
  },
  {
   "cell_type": "code",
   "execution_count": 9,
   "metadata": {},
   "outputs": [
    {
     "data": {
      "text/plain": [
       "País/Território    País/Território  Mundo           object\n",
       "Região ONU         Região ONU       —               object\n",
       "FMI[26][27]        Estimativa       101,560,901    float64\n",
       "                   Ano              2024            object\n",
       "Banco Mundial[28]  Estimativa       96,100,091     float64\n",
       "                   Ano              2021            object\n",
       "Nações Unidas[29]  Estimativa       85,328,323     float64\n",
       "                   Ano              2020            object\n",
       "dtype: object"
      ]
     },
     "execution_count": 9,
     "metadata": {},
     "output_type": "execute_result"
    }
   ],
   "source": [
    "tabela_pib.dtypes"
   ]
  },
  {
   "cell_type": "markdown",
   "metadata": {},
   "source": [
    "Verificando novamente a quantidade de valores nulos. Vamos verificar novamente por que o coerce transforma os valores não convertidos em\n",
    "valores nulos"
   ]
  },
  {
   "cell_type": "code",
   "execution_count": 10,
   "metadata": {},
   "outputs": [
    {
     "data": {
      "text/plain": [
       "País/Território    País/Território  Mundo           0\n",
       "Região ONU         Região ONU       —               0\n",
       "FMI[26][27]        Estimativa       101,560,901    21\n",
       "                   Ano              2024            0\n",
       "Banco Mundial[28]  Estimativa       96,100,091      7\n",
       "                   Ano              2021            0\n",
       "Nações Unidas[29]  Estimativa       85,328,323      3\n",
       "                   Ano              2020            0\n",
       "dtype: int64"
      ]
     },
     "execution_count": 10,
     "metadata": {},
     "output_type": "execute_result"
    }
   ],
   "source": [
    "tabela_pib.isnull().sum()"
   ]
  },
  {
   "cell_type": "markdown",
   "metadata": {},
   "source": [
    "Localizando as linhas que possuem valores nulos"
   ]
  },
  {
   "cell_type": "code",
   "execution_count": 11,
   "metadata": {},
   "outputs": [
    {
     "data": {
      "text/html": [
       "<div>\n",
       "<style scoped>\n",
       "    .dataframe tbody tr th:only-of-type {\n",
       "        vertical-align: middle;\n",
       "    }\n",
       "\n",
       "    .dataframe tbody tr th {\n",
       "        vertical-align: top;\n",
       "    }\n",
       "\n",
       "    .dataframe thead tr th {\n",
       "        text-align: left;\n",
       "    }\n",
       "</style>\n",
       "<table border=\"1\" class=\"dataframe\">\n",
       "  <thead>\n",
       "    <tr>\n",
       "      <th></th>\n",
       "      <th>País/Território</th>\n",
       "      <th>Região ONU</th>\n",
       "      <th colspan=\"2\" halign=\"left\">FMI[26][27]</th>\n",
       "      <th colspan=\"2\" halign=\"left\">Banco Mundial[28]</th>\n",
       "      <th colspan=\"2\" halign=\"left\">Nações Unidas[29]</th>\n",
       "    </tr>\n",
       "    <tr>\n",
       "      <th></th>\n",
       "      <th>País/Território</th>\n",
       "      <th>Região ONU</th>\n",
       "      <th>Estimativa</th>\n",
       "      <th>Ano</th>\n",
       "      <th>Estimativa</th>\n",
       "      <th>Ano</th>\n",
       "      <th>Estimativa</th>\n",
       "      <th>Ano</th>\n",
       "    </tr>\n",
       "    <tr>\n",
       "      <th></th>\n",
       "      <th>Mundo</th>\n",
       "      <th>—</th>\n",
       "      <th>101,560,901</th>\n",
       "      <th>2024</th>\n",
       "      <th>96,100,091</th>\n",
       "      <th>2021</th>\n",
       "      <th>85,328,323</th>\n",
       "      <th>2020</th>\n",
       "    </tr>\n",
       "  </thead>\n",
       "  <tbody>\n",
       "    <tr>\n",
       "      <th>19</th>\n",
       "      <td>Taiwan</td>\n",
       "      <td>Ásia</td>\n",
       "      <td>828659.0</td>\n",
       "      <td>[n 3]2022</td>\n",
       "      <td>NaN</td>\n",
       "      <td>—</td>\n",
       "      <td>669324.0</td>\n",
       "      <td>[30] 2020</td>\n",
       "    </tr>\n",
       "    <tr>\n",
       "      <th>134</th>\n",
       "      <td>Coreia do Norte</td>\n",
       "      <td>Ásia</td>\n",
       "      <td>NaN</td>\n",
       "      <td>—</td>\n",
       "      <td>NaN</td>\n",
       "      <td>—</td>\n",
       "      <td>15847.0</td>\n",
       "      <td>2020</td>\n",
       "    </tr>\n",
       "    <tr>\n",
       "      <th>188</th>\n",
       "      <td>Zanzibar</td>\n",
       "      <td>Africa</td>\n",
       "      <td>NaN</td>\n",
       "      <td>—</td>\n",
       "      <td>NaN</td>\n",
       "      <td>—</td>\n",
       "      <td>1724.0</td>\n",
       "      <td>2020</td>\n",
       "    </tr>\n",
       "    <tr>\n",
       "      <th>193</th>\n",
       "      <td>Ilhas Virgens Britânicas</td>\n",
       "      <td>América</td>\n",
       "      <td>NaN</td>\n",
       "      <td>—</td>\n",
       "      <td>NaN</td>\n",
       "      <td>—</td>\n",
       "      <td>1492.0</td>\n",
       "      <td>2020</td>\n",
       "    </tr>\n",
       "    <tr>\n",
       "      <th>208</th>\n",
       "      <td>Ilhas Cook</td>\n",
       "      <td>Oceania</td>\n",
       "      <td>NaN</td>\n",
       "      <td>—</td>\n",
       "      <td>NaN</td>\n",
       "      <td>—</td>\n",
       "      <td>283.0</td>\n",
       "      <td>2020</td>\n",
       "    </tr>\n",
       "    <tr>\n",
       "      <th>210</th>\n",
       "      <td>Anguila</td>\n",
       "      <td>América</td>\n",
       "      <td>NaN</td>\n",
       "      <td>—</td>\n",
       "      <td>NaN</td>\n",
       "      <td>—</td>\n",
       "      <td>258.0</td>\n",
       "      <td>2020</td>\n",
       "    </tr>\n",
       "    <tr>\n",
       "      <th>214</th>\n",
       "      <td>Montserrat</td>\n",
       "      <td>América</td>\n",
       "      <td>NaN</td>\n",
       "      <td>—</td>\n",
       "      <td>NaN</td>\n",
       "      <td>—</td>\n",
       "      <td>68.0</td>\n",
       "      <td>2020</td>\n",
       "    </tr>\n",
       "  </tbody>\n",
       "</table>\n",
       "</div>"
      ],
      "text/plain": [
       "              País/Território Região ONU FMI[26][27]             \\\n",
       "              País/Território Região ONU  Estimativa        Ano   \n",
       "                        Mundo          — 101,560,901       2024   \n",
       "19                     Taiwan       Ásia    828659.0  [n 3]2022   \n",
       "134           Coreia do Norte       Ásia         NaN          —   \n",
       "188                  Zanzibar     Africa         NaN          —   \n",
       "193  Ilhas Virgens Britânicas    América         NaN          —   \n",
       "208                Ilhas Cook    Oceania         NaN          —   \n",
       "210                   Anguila    América         NaN          —   \n",
       "214                Montserrat    América         NaN          —   \n",
       "\n",
       "    Banco Mundial[28]      Nações Unidas[29]             \n",
       "           Estimativa  Ano        Estimativa        Ano  \n",
       "           96,100,091 2021        85,328,323       2020  \n",
       "19                NaN    —          669324.0  [30] 2020  \n",
       "134               NaN    —           15847.0       2020  \n",
       "188               NaN    —            1724.0       2020  \n",
       "193               NaN    —            1492.0       2020  \n",
       "208               NaN    —             283.0       2020  \n",
       "210               NaN    —             258.0       2020  \n",
       "214               NaN    —              68.0       2020  "
      ]
     },
     "execution_count": 11,
     "metadata": {},
     "output_type": "execute_result"
    }
   ],
   "source": [
    "# Para localizar os valores vamos usar o método loc que recebe como parametro\n",
    "# uma condição que irá guiar a busca das linhas\n",
    "tabela_pib.loc[tabela_pib['Banco Mundial[28]','Estimativa','96,100,091'].isnull()]"
   ]
  },
  {
   "cell_type": "markdown",
   "metadata": {},
   "source": [
    "Agora que já descobrimos, vamos substituir os valores nulos por 0, acredito\n",
    "que nesse caso em especifico, seja melhor do que excluir a coluna"
   ]
  },
  {
   "cell_type": "code",
   "execution_count": 12,
   "metadata": {},
   "outputs": [],
   "source": [
    "# Para realizar a substituição, vamos usar a função fillna que ira\n",
    "# receber como parametro o valor que ira substituir os valores nulos\n",
    "# das colunas.\n",
    "tabela_pib['FMI[26][27]','Estimativa','101,560,901'] = tabela_pib['FMI[26][27]','Estimativa','101,560,901'].fillna(0)\n",
    "\n",
    "tabela_pib['Banco Mundial[28]','Estimativa','96,100,091'] = tabela_pib['Banco Mundial[28]','Estimativa','96,100,091'].fillna(0)\n",
    "\n",
    "tabela_pib['Nações Unidas[29]','Estimativa','85,328,323'] = tabela_pib['Nações Unidas[29]','Estimativa','85,328,323'].fillna(0)"
   ]
  },
  {
   "cell_type": "markdown",
   "metadata": {},
   "source": [
    "Verificando se a substituição nas colunas de estimativas foram realizadas com sucesso."
   ]
  },
  {
   "cell_type": "code",
   "execution_count": 13,
   "metadata": {},
   "outputs": [
    {
     "data": {
      "text/plain": [
       "País/Território    País/Território  Mundo          0\n",
       "Região ONU         Região ONU       —              0\n",
       "FMI[26][27]        Estimativa       101,560,901    0\n",
       "                   Ano              2024           0\n",
       "Banco Mundial[28]  Estimativa       96,100,091     0\n",
       "                   Ano              2021           0\n",
       "Nações Unidas[29]  Estimativa       85,328,323     0\n",
       "                   Ano              2020           0\n",
       "dtype: int64"
      ]
     },
     "execution_count": 13,
     "metadata": {},
     "output_type": "execute_result"
    }
   ],
   "source": [
    "tabela_pib.isnull().sum()"
   ]
  }
 ],
 "metadata": {
  "kernelspec": {
   "display_name": "Python 3",
   "language": "python",
   "name": "python3"
  },
  "language_info": {
   "codemirror_mode": {
    "name": "ipython",
    "version": 3
   },
   "file_extension": ".py",
   "mimetype": "text/x-python",
   "name": "python",
   "nbconvert_exporter": "python",
   "pygments_lexer": "ipython3",
   "version": "3.12.8"
  }
 },
 "nbformat": 4,
 "nbformat_minor": 2
}
