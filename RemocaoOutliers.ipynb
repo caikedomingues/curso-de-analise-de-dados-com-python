{
 "cells": [
  {
   "cell_type": "code",
   "execution_count": 3,
   "metadata": {},
   "outputs": [],
   "source": [
    "# O que são outliers: Dados que fogem do padrão e da normalidade\n",
    "\n",
    "# Vamos começar fazendo a instalação do pyod que é uma biblioteca especifica\n",
    "# para lidar com outliers\n",
    "\n",
    "# Vamos usar a biblioteca pyod para gerar dados sinteticos\n",
    "\n",
    "# Import dos frameworks\n",
    "\n",
    "# O pandas tem como objetivo acessar, analisar e manipular\n",
    "# dados de um dataset\n",
    "import pandas as pd\n",
    "\n",
    "# Biblioteca para computação numérica eficiente e manipulação de arrays\n",
    "import numpy as np\n",
    "\n",
    "# Serve para criar e manipular gráficos\n",
    "import matplotlib.pyplot as plt\n",
    "\n",
    "# O seaborn possui uma grande variedade de gráficos\n",
    "import seaborn\n",
    "\n",
    "#  PyOD: Importação do método generate_data para criar dados sintéticos\n",
    "\n",
    "\n",
    "from pyod.utils.data import generate_data\n"
   ]
  }
 ],
 "metadata": {
  "kernelspec": {
   "display_name": "Python 3",
   "language": "python",
   "name": "python3"
  },
  "language_info": {
   "codemirror_mode": {
    "name": "ipython",
    "version": 3
   },
   "file_extension": ".py",
   "mimetype": "text/x-python",
   "name": "python",
   "nbconvert_exporter": "python",
   "pygments_lexer": "ipython3",
   "version": "3.12.8"
  }
 },
 "nbformat": 4,
 "nbformat_minor": 2
}
