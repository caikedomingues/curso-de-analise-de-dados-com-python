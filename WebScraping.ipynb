{
 "cells": [
  {
   "cell_type": "code",
   "execution_count": 4,
   "metadata": {},
   "outputs": [],
   "source": [
    "# web scraping: é uma técnica de coleta de dados automatizada que extrai informações de páginas web. Essa técnica é fundamental para a análise de\n",
    "# dados, pois, permite obter grandes volumes de dados que nãp estão disponiveis\n",
    "# em formatos estruturados, como planilhas ou base de dados.\n",
    "\n",
    "# Vamos usar nesse projeto 2 frameworks em python\n",
    "\n",
    "# Request: É uma biblioteca HTTP elegante e simples para python\n",
    "\n",
    "# Beautiful Soup: É uma biblioteca python para extrair dados de \n",
    "# arquivos HTML e XML.\n",
    "\n",
    "# frameworks: É uma estrutura pré-construida que fornece um conjunto \n",
    "# de ferramentas, bibliotecas e convenções para agilizar o desenvolvimento\n",
    "# de software. Ele serve como um ponto de partida, oferecendo uma base sólida\n",
    "# e organizada para que os desenvolvedores possam construir aplicações de forma\n",
    "# mais rápida e eficiente. Em resumo, os frameworks são ferramentas poderosas que podem acelerar o desenvolvimento de software e melhorar a qualidade do código. Ao escolher o framework certo, você pode aumentar sua produtividade e criar aplicações mais robustas e escaláveis.\n",
    "\n",
    "# Dados Estruturados: Os dados estruturados são aqueles organizados e \n",
    "# representados com uma estrutura rigida, a qual foi previamente \n",
    "# planejada para armazena-los. \n",
    "# Exemplos de dados estruturados: Planilhas, Tabelas\n",
    "\n",
    "\n",
    "# Dados semiestruturados: Semiestruturados não possuem estrutura totalmente\n",
    "# rigida nem estrutura totalmente flexivel, sendo uma representação heterogenea\n",
    "\n",
    "# Exemplo de dados semisestruturados: Json e XLM\n",
    "\n",
    "# Dados não estruturados: Não estruturados possuem uma estrutura totalmente\n",
    "# inversa dos dados estruturados, sendo flexiveis e dinâmicos ou, até mesmo,\n",
    "# sem qualquer estrutura\n",
    "\n",
    "\n",
    "\n",
    "\n",
    "# import dos pacotes\n",
    "\n",
    "# import do request\n",
    "\n",
    "# framework que ira trabalhar com as requisições HTTP\n",
    "import requests\n",
    "\n",
    "# Irá minerar os dados das páginas web \n",
    "from bs4 import BeautifulSoup\n",
    "\n",
    "# Serve para análisar e manipular dados\n",
    "import pandas as pd\n",
    "\n",
    "# Serve para criar gráficos interativos\n",
    "import plotly.graph_objects as go"
   ]
  },
  {
   "cell_type": "code",
   "execution_count": 5,
   "metadata": {},
   "outputs": [],
   "source": [
    "# Acessando a página\n",
    "\n",
    "# URL para buscar os dados\n",
    "site = 'https://dados.gov.br/dados/conjuntos-dados/violencia-contra-mulher'\n",
    "\n",
    "# Carregando os dados da página usando o request\n",
    "\n",
    "pagina = requests.get(site)"
   ]
  },
  {
   "cell_type": "code",
   "execution_count": 7,
   "metadata": {},
   "outputs": [
    {
     "data": {
      "text/plain": [
       "<Response [200]>"
      ]
     },
     "execution_count": 7,
     "metadata": {},
     "output_type": "execute_result"
    }
   ],
   "source": [
    "# O 200 do resultado signfica que a requisição http foi realizada com sucesso.\n",
    "\n",
    "# 200 OK: Significa que a requisição feita pelo cliente (seu navegador) foi\n",
    "# recebida, compreendida e atendida pelo servidor. O recurso solicitado foi\n",
    "# encontrado e enviado ao cliente.\n",
    "pagina"
   ]
  },
  {
   "cell_type": "code",
   "execution_count": 8,
   "metadata": {},
   "outputs": [
    {
     "data": {
      "text/plain": [
       "requests.models.Response"
      ]
     },
     "execution_count": 8,
     "metadata": {},
     "output_type": "execute_result"
    }
   ],
   "source": [
    "# Verificando o tipo da variável pagina (variável que ira carregar os dados da\n",
    "# página)\n",
    "\n",
    "type(pagina)"
   ]
  },
  {
   "cell_type": "code",
   "execution_count": 9,
   "metadata": {},
   "outputs": [
    {
     "data": {
      "text/plain": [
       "'<!DOCTYPE html><html><head><script>(function(w,d,s,l,i){w[l]=w[l]||[];w[l].push({\\'gtm.start\\':\\n              new Date().getTime(),event:\\'gtm.js\\'});var f=d.getElementsByTagName(s)[0],\\n            j=d.createElement(s),dl=l!=\\'dataLayer\\'?\\'&l=\\'+l:\\'\\';j.async=true;j.src=\\n            \\'https://www.googletagmanager.com/gtm.js?id=\\'+i+dl;f.parentNode.insertBefore(j,f);\\n    })(window,document,\\'script\\',\\'dataLayer\\',\\'GTM-KCSRLH2P\\');</script><script>(function(w,d,s,l,i){w[l]=w[l]||[];w[l].push({\\'gtm.start\\':\\n              new Date().getTime(),event:\\'gtm.js\\'});var f=d.getElementsByTagName(s)[0],\\n            j=d.createElement(s),dl=l!=\\'dataLayer\\'?\\'&l=\\'+l:\\'\\';j.async=true;j.src=\\n            \\'https://www.googletagmanager.com/gtm.js?id=\\'+i+dl;f.parentNode.insertBefore(j,f);\\n    })(window,document,\\'script\\',\\'dataLayer\\',\\'GTM-PWDNGXV9\\');</script><meta charset=\"utf-8\"><meta http-equiv=\"X-UA-Compatible\" content=\"IE=edge\"><meta name=\"viewport\" content=\"width=device-width,initial-scale=1\"><base href=\"/\"><link rel=\"shortcut icon\" href=\"img/favicon-32x32.png\" type=\"image/x-icon\"><meta name=\"format-detection\" content=\"telephone=no\"><title>Portal de Dados Abertos</title><link href=\"/static/css/chunk-03ff111f.5578bbdc.css\" rel=\"prefetch\"><link href=\"/static/css/chunk-081c2a6d.0a8f08a1.css\" rel=\"prefetch\"><link href=\"/static/css/chunk-09eb7457.b5d4c181.css\" rel=\"prefetch\"><link href=\"/static/css/chunk-0ba2b831.ecd6b5e7.css\" rel=\"prefetch\"><link href=\"/static/css/chunk-0c6bd1d4.3f050ef5.css\" rel=\"prefetch\"><link href=\"/static/css/chunk-0f11d64f.c78800f4.css\" rel=\"prefetch\"><link href=\"/static/css/chunk-0fe24bcb.473d72b9.css\" rel=\"prefetch\"><link href=\"/static/css/chunk-1ab007fc.db5953e1.css\" rel=\"prefetch\"><link href=\"/static/css/chunk-1d210bff.176056a2.css\" rel=\"prefetch\"><link href=\"/static/css/chunk-1efbf8e5.ecd6b5e7.css\" rel=\"prefetch\"><link href=\"/static/css/chunk-2024dcfc.756d5dc5.css\" rel=\"prefetch\"><link href=\"/static/css/chunk-232064e4.4703d4eb.css\" rel=\"prefetch\"><link href=\"/static/css/chunk-2acd2804.dcfc1cbd.css\" rel=\"prefetch\"><link href=\"/static/css/chunk-307e02a2.47345067.css\" rel=\"prefetch\"><link href=\"/static/css/chunk-30d17065.c9b24446.css\" rel=\"prefetch\"><link href=\"/static/css/chunk-3c9739b4.f33e87d3.css\" rel=\"prefetch\"><link href=\"/static/css/chunk-3d851c6a.45503a46.css\" rel=\"prefetch\"><link href=\"/static/css/chunk-41526edb.d7456cf8.css\" rel=\"prefetch\"><link href=\"/static/css/chunk-4273e698.01204633.css\" rel=\"prefetch\"><link href=\"/static/css/chunk-45d463f8.84652b5d.css\" rel=\"prefetch\"><link href=\"/static/css/chunk-4d85ff14.b712d122.css\" rel=\"prefetch\"><link href=\"/static/css/chunk-53a267cc.f009e9e5.css\" rel=\"prefetch\"><link href=\"/static/css/chunk-580389c8.fe4a2608.css\" rel=\"prefetch\"><link href=\"/static/css/chunk-5c88b99b.f1d3eec1.css\" rel=\"prefetch\"><link href=\"/static/css/chunk-5f0d7e1f.ecd6b5e7.css\" rel=\"prefetch\"><link href=\"/static/css/chunk-64e8dfe9.b6576584.css\" rel=\"prefetch\"><link href=\"/static/css/chunk-66a63749.ecd6b5e7.css\" rel=\"prefetch\"><link href=\"/static/css/chunk-67b6efe7.a2b2f050.css\" rel=\"prefetch\"><link href=\"/static/css/chunk-6b1e208b.aa353e64.css\" rel=\"prefetch\"><link href=\"/static/css/chunk-71fb3172.774a151b.css\" rel=\"prefetch\"><link href=\"/static/css/chunk-724c403a.a7c4142f.css\" rel=\"prefetch\"><link href=\"/static/css/chunk-75d013c4.3f050ef5.css\" rel=\"prefetch\"><link href=\"/static/css/chunk-77b0e872.e841eabe.css\" rel=\"prefetch\"><link href=\"/static/css/chunk-7987223c.9b565a1b.css\" rel=\"prefetch\"><link href=\"/static/css/chunk-7fad18d3.fda50412.css\" rel=\"prefetch\"><link href=\"/static/css/chunk-84fbd254.5a549a2f.css\" rel=\"prefetch\"><link href=\"/static/css/chunk-87cc9960.b9218d02.css\" rel=\"prefetch\"><link href=\"/static/css/chunk-94c13f7a.ca693d92.css\" rel=\"prefetch\"><link href=\"/static/css/chunk-9c25177e.6dc3c837.css\" rel=\"prefetch\"><link href=\"/static/css/chunk-a551ee60.ac8e8509.css\" rel=\"prefetch\"><link href=\"/static/css/chunk-a982da44.7ff61078.css\" rel=\"prefetch\"><link href=\"/static/css/chunk-b0d9b90a.7f6f9213.css\" rel=\"prefetch\"><link href=\"/static/css/chunk-bf2bcd00.ecd6b5e7.css\" rel=\"prefetch\"><link href=\"/static/css/chunk-c4126f6c.0ce75658.css\" rel=\"prefetch\"><link href=\"/static/css/chunk-d0b08e2c.c94a1e0f.css\" rel=\"prefetch\"><link href=\"/static/css/chunk-ef42ed5a.e5954e5e.css\" rel=\"prefetch\"><link href=\"/static/css/chunk-f93f82f8.528331e8.css\" rel=\"prefetch\"><link href=\"/static/js/chunk-03ff111f.f046c6ea.js\" rel=\"prefetch\"><link href=\"/static/js/chunk-06c537e5.6d3ac682.js\" rel=\"prefetch\"><link href=\"/static/js/chunk-0700be99.ed9354c8.js\" rel=\"prefetch\"><link href=\"/static/js/chunk-081c2a6d.7c7b9d92.js\" rel=\"prefetch\"><link href=\"/static/js/chunk-09eb7457.4ebd40ad.js\" rel=\"prefetch\"><link href=\"/static/js/chunk-0ba2b831.94213116.js\" rel=\"prefetch\"><link href=\"/static/js/chunk-0c6bd1d4.05739d03.js\" rel=\"prefetch\"><link href=\"/static/js/chunk-0f11d64f.09204933.js\" rel=\"prefetch\"><link href=\"/static/js/chunk-0fe24bcb.e990dfad.js\" rel=\"prefetch\"><link href=\"/static/js/chunk-1ab007fc.7d856327.js\" rel=\"prefetch\"><link href=\"/static/js/chunk-1d210bff.cd33923c.js\" rel=\"prefetch\"><link href=\"/static/js/chunk-1efbf8e5.68450fc7.js\" rel=\"prefetch\"><link href=\"/static/js/chunk-2024dcfc.a16bdbde.js\" rel=\"prefetch\"><link href=\"/static/js/chunk-232064e4.dd05da6d.js\" rel=\"prefetch\"><link href=\"/static/js/chunk-2acd2804.7bbfe431.js\" rel=\"prefetch\"><link href=\"/static/js/chunk-2d0a4493.6eca1dc0.js\" rel=\"prefetch\"><link href=\"/static/js/chunk-2d0bddc2.7f99fb07.js\" rel=\"prefetch\"><link href=\"/static/js/chunk-2d0d36d2.fbb257b0.js\" rel=\"prefetch\"><link href=\"/static/js/chunk-2d0d7a51.e08c274e.js\" rel=\"prefetch\"><link href=\"/static/js/chunk-2d0dddb4.85d34ae1.js\" rel=\"prefetch\"><link href=\"/static/js/chunk-2d216d7b.e42b5e15.js\" rel=\"prefetch\"><link href=\"/static/js/chunk-2d21ef94.e4b7f4d9.js\" rel=\"prefetch\"><link href=\"/static/js/chunk-2d23118a.29fac7ae.js\" rel=\"prefetch\"><link href=\"/static/js/chunk-307e02a2.378e18b7.js\" rel=\"prefetch\"><link href=\"/static/js/chunk-30d17065.90724462.js\" rel=\"prefetch\"><link href=\"/static/js/chunk-370846e4.9e110b5d.js\" rel=\"prefetch\"><link href=\"/static/js/chunk-3c9739b4.90f3bfaf.js\" rel=\"prefetch\"><link href=\"/static/js/chunk-3d851c6a.75b94169.js\" rel=\"prefetch\"><link href=\"/static/js/chunk-41526edb.a28b199a.js\" rel=\"prefetch\"><link href=\"/static/js/chunk-4273e698.4cd0330a.js\" rel=\"prefetch\"><link href=\"/static/js/chunk-45d463f8.3e15c9c1.js\" rel=\"prefetch\"><link href=\"/static/js/chunk-4a5f46a6.701f7729.js\" rel=\"prefetch\"><link href=\"/static/js/chunk-4d85ff14.a41b70c0.js\" rel=\"prefetch\"><link href=\"/static/js/chunk-53a267cc.a67102ad.js\" rel=\"prefetch\"><link href=\"/static/js/chunk-580389c8.bb958983.js\" rel=\"prefetch\"><link href=\"/static/js/chunk-5c88b99b.c401975c.js\" rel=\"prefetch\"><link href=\"/static/js/chunk-5f0d7e1f.6ed8f162.js\" rel=\"prefetch\"><link href=\"/static/js/chunk-64e8dfe9.42e2283f.js\" rel=\"prefetch\"><link href=\"/static/js/chunk-66a63749.25f19be3.js\" rel=\"prefetch\"><link href=\"/static/js/chunk-67b6efe7.04f35422.js\" rel=\"prefetch\"><link href=\"/static/js/chunk-6b1e208b.2b74494d.js\" rel=\"prefetch\"><link href=\"/static/js/chunk-71fb3172.f4a35652.js\" rel=\"prefetch\"><link href=\"/static/js/chunk-724c403a.1be92a20.js\" rel=\"prefetch\"><link href=\"/static/js/chunk-75d013c4.112db47d.js\" rel=\"prefetch\"><link href=\"/static/js/chunk-77b0e872.8a72400d.js\" rel=\"prefetch\"><link href=\"/static/js/chunk-79468d52.448d1567.js\" rel=\"prefetch\"><link href=\"/static/js/chunk-7987223c.4722f7e2.js\" rel=\"prefetch\"><link href=\"/static/js/chunk-7fad18d3.4023a277.js\" rel=\"prefetch\"><link href=\"/static/js/chunk-84fbd254.d93a6463.js\" rel=\"prefetch\"><link href=\"/static/js/chunk-87cc9960.3ee6593a.js\" rel=\"prefetch\"><link href=\"/static/js/chunk-94c13f7a.936040c9.js\" rel=\"prefetch\"><link href=\"/static/js/chunk-9c25177e.4e58c6dd.js\" rel=\"prefetch\"><link href=\"/static/js/chunk-a551ee60.ad09f964.js\" rel=\"prefetch\"><link href=\"/static/js/chunk-a982da44.ecf157bd.js\" rel=\"prefetch\"><link href=\"/static/js/chunk-b0d9b90a.fedca94a.js\" rel=\"prefetch\"><link href=\"/static/js/chunk-bf2bcd00.7bc5da76.js\" rel=\"prefetch\"><link href=\"/static/js/chunk-c4126f6c.9106c2c6.js\" rel=\"prefetch\"><link href=\"/static/js/chunk-d0b08e2c.33d2d86d.js\" rel=\"prefetch\"><link href=\"/static/js/chunk-ef42ed5a.52bb6b4b.js\" rel=\"prefetch\"><link href=\"/static/js/chunk-f93f82f8.0837fc39.js\" rel=\"prefetch\"><link href=\"/static/css/app.41db6a8a.css\" rel=\"preload\" as=\"style\"><link href=\"/static/css/chunk-vendors.cdda6749.css\" rel=\"preload\" as=\"style\"><link href=\"/static/js/app.aacf8be9.js\" rel=\"preload\" as=\"script\"><link href=\"/static/js/chunk-vendors.47bf8c38.js\" rel=\"preload\" as=\"script\"><link href=\"/static/css/chunk-vendors.cdda6749.css\" rel=\"stylesheet\"><link href=\"/static/css/app.41db6a8a.css\" rel=\"stylesheet\"></head><body><noscript><iframe src=\"https://www.googletagmanager.com/ns.html?id=GTM-KCSRLH2P\" height=\"0\" width=\"0\" style=\"display:none;visibility:hidden\"></iframe></noscript><noscript><iframe src=\"https://www.googletagmanager.com/ns.html?id=GTM-PWDNGXV9\" height=\"0\" width=\"0\" style=\"display:none;visibility:hidden\"></iframe></noscript><noscript><strong>Essa pÃ¡gina requer javascript para funcionar corretamente.</strong></noscript><div id=\"app\"></div><script src=\"/static/js/chunk-vendors.47bf8c38.js\"></script><script src=\"/static/js/app.aacf8be9.js\"></script></body></html>'"
      ]
     },
     "execution_count": 9,
     "metadata": {},
     "output_type": "execute_result"
    }
   ],
   "source": [
    "pagina.text"
   ]
  },
  {
   "cell_type": "code",
   "execution_count": null,
   "metadata": {},
   "outputs": [],
   "source": []
  }
 ],
 "metadata": {
  "kernelspec": {
   "display_name": "Python 3",
   "language": "python",
   "name": "python3"
  },
  "language_info": {
   "codemirror_mode": {
    "name": "ipython",
    "version": 3
   },
   "file_extension": ".py",
   "mimetype": "text/x-python",
   "name": "python",
   "nbconvert_exporter": "python",
   "pygments_lexer": "ipython3",
   "version": "3.12.8"
  }
 },
 "nbformat": 4,
 "nbformat_minor": 2
}
