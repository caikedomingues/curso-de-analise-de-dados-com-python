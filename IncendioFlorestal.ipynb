{
 "cells": [
  {
   "cell_type": "code",
   "execution_count": 1,
   "metadata": {},
   "outputs": [],
   "source": [
    "# import das biblioteca necessarias\n",
    "\n",
    "# import da biblioteca respon´savel por acessar, manipular e análisar dados.\n",
    "import pandas as pd\n",
    "\n",
    "# Import da biblioteca responsável por criar varios tipos de gráficos\n",
    "import seaborn as sns\n",
    "\n",
    "# Import da biblioteca responsável por criar e manipular gráficos\n",
    "import matplotlib.pyplot as plt"
   ]
  },
  {
   "cell_type": "code",
   "execution_count": null,
   "metadata": {},
   "outputs": [],
   "source": [
    "# Incêndios Florestais no Brasil: Os incêndios florestais são um grave problema\n",
    "# para a preservação das Florestas Tropicais. Compreender a frequência de\n",
    "# incêndios florestais em uma série temporal pode ajudar a tornar medidas\n",
    "# para evita-los. O Brasil tem a maior floresta tropical do planeta que é\n",
    "# a floresta.\n",
    "\n",
    "# Carregando na memória o arquivo csv. Nesse caso foi necessário codificar # o arquivo pro padrão 'latin1' que tem suporte para caracteres especiais.\n",
    "\n",
    "base_dados = pd.read_csv('Dados_Incendio.csv', encoding='latin1')\n"
   ]
  },
  {
   "cell_type": "code",
   "execution_count": 9,
   "metadata": {},
   "outputs": [
    {
     "name": "stdout",
     "output_type": "stream",
     "text": [
      "AS 5 PRIMEIRAS LINHAS DO DATASET\n"
     ]
    },
    {
     "data": {
      "text/html": [
       "<div>\n",
       "<style scoped>\n",
       "    .dataframe tbody tr th:only-of-type {\n",
       "        vertical-align: middle;\n",
       "    }\n",
       "\n",
       "    .dataframe tbody tr th {\n",
       "        vertical-align: top;\n",
       "    }\n",
       "\n",
       "    .dataframe thead th {\n",
       "        text-align: right;\n",
       "    }\n",
       "</style>\n",
       "<table border=\"1\" class=\"dataframe\">\n",
       "  <thead>\n",
       "    <tr style=\"text-align: right;\">\n",
       "      <th></th>\n",
       "      <th>year</th>\n",
       "      <th>state</th>\n",
       "      <th>month</th>\n",
       "      <th>number</th>\n",
       "      <th>date</th>\n",
       "    </tr>\n",
       "  </thead>\n",
       "  <tbody>\n",
       "    <tr>\n",
       "      <th>0</th>\n",
       "      <td>1998</td>\n",
       "      <td>Acre</td>\n",
       "      <td>Janeiro</td>\n",
       "      <td>0.0</td>\n",
       "      <td>1998-01-01</td>\n",
       "    </tr>\n",
       "    <tr>\n",
       "      <th>1</th>\n",
       "      <td>1999</td>\n",
       "      <td>Acre</td>\n",
       "      <td>Janeiro</td>\n",
       "      <td>0.0</td>\n",
       "      <td>1999-01-01</td>\n",
       "    </tr>\n",
       "    <tr>\n",
       "      <th>2</th>\n",
       "      <td>2000</td>\n",
       "      <td>Acre</td>\n",
       "      <td>Janeiro</td>\n",
       "      <td>0.0</td>\n",
       "      <td>2000-01-01</td>\n",
       "    </tr>\n",
       "    <tr>\n",
       "      <th>3</th>\n",
       "      <td>2001</td>\n",
       "      <td>Acre</td>\n",
       "      <td>Janeiro</td>\n",
       "      <td>0.0</td>\n",
       "      <td>2001-01-01</td>\n",
       "    </tr>\n",
       "    <tr>\n",
       "      <th>4</th>\n",
       "      <td>2002</td>\n",
       "      <td>Acre</td>\n",
       "      <td>Janeiro</td>\n",
       "      <td>0.0</td>\n",
       "      <td>2002-01-01</td>\n",
       "    </tr>\n",
       "  </tbody>\n",
       "</table>\n",
       "</div>"
      ],
      "text/plain": [
       "   year state    month  number        date\n",
       "0  1998  Acre  Janeiro     0.0  1998-01-01\n",
       "1  1999  Acre  Janeiro     0.0  1999-01-01\n",
       "2  2000  Acre  Janeiro     0.0  2000-01-01\n",
       "3  2001  Acre  Janeiro     0.0  2001-01-01\n",
       "4  2002  Acre  Janeiro     0.0  2002-01-01"
      ]
     },
     "execution_count": 9,
     "metadata": {},
     "output_type": "execute_result"
    }
   ],
   "source": [
    "print(\"AS 5 PRIMEIRAS LINHAS DO DATASET\")\n",
    "\n",
    "base_dados.head()"
   ]
  },
  {
   "cell_type": "code",
   "execution_count": 11,
   "metadata": {},
   "outputs": [
    {
     "name": "stdout",
     "output_type": "stream",
     "text": [
      "INFORMAÇÕES GERAIS DO DATASET\n",
      "<class 'pandas.core.frame.DataFrame'>\n",
      "RangeIndex: 6454 entries, 0 to 6453\n",
      "Data columns (total 5 columns):\n",
      " #   Column  Non-Null Count  Dtype  \n",
      "---  ------  --------------  -----  \n",
      " 0   year    6454 non-null   int64  \n",
      " 1   state   6454 non-null   object \n",
      " 2   month   6454 non-null   object \n",
      " 3   number  6454 non-null   float64\n",
      " 4   date    6454 non-null   object \n",
      "dtypes: float64(1), int64(1), object(3)\n",
      "memory usage: 252.2+ KB\n"
     ]
    }
   ],
   "source": [
    "print(\"INFORMAÇÕES GERAIS DO DATASET\")\n",
    "\n",
    "base_dados.info()"
   ]
  },
  {
   "cell_type": "code",
   "execution_count": 12,
   "metadata": {},
   "outputs": [],
   "source": [
    "# Para facilitar a nossa análise vamos renomear as colunas do dataset\n",
    "# O inplace True ira aplicar a renoemação de colunas no dataset carregado\n",
    "# na memória\n",
    "base_dados.rename(columns={\n",
    "    \n",
    "    'year': 'Ano',\n",
    "    'state': 'Estado',\n",
    "    'month':'Mes',\n",
    "    'number': 'Numero',\n",
    "    'date':'Data'\n",
    "}, inplace=True)"
   ]
  },
  {
   "cell_type": "code",
   "execution_count": 13,
   "metadata": {},
   "outputs": [
    {
     "name": "stdout",
     "output_type": "stream",
     "text": [
      "VERIFICANDO SE OS NOMES DAS COLUNAS FORAM ALTERADOS\n"
     ]
    },
    {
     "data": {
      "text/plain": [
       "Index(['Ano', 'Estado', 'Mes', 'Numero', 'Data'], dtype='object')"
      ]
     },
     "execution_count": 13,
     "metadata": {},
     "output_type": "execute_result"
    }
   ],
   "source": [
    "print(\"VERIFICANDO SE OS NOMES DAS COLUNAS FORAM ALTERADOS\")\n",
    "\n",
    "base_dados.columns"
   ]
  },
  {
   "cell_type": "code",
   "execution_count": 14,
   "metadata": {},
   "outputs": [
    {
     "name": "stdout",
     "output_type": "stream",
     "text": [
      "TOTAL DE VALORES NULOS DAS COLUNAS\n"
     ]
    },
    {
     "data": {
      "text/plain": [
       "Ano       0\n",
       "Estado    0\n",
       "Mes       0\n",
       "Numero    0\n",
       "Data      0\n",
       "dtype: int64"
      ]
     },
     "execution_count": 14,
     "metadata": {},
     "output_type": "execute_result"
    }
   ],
   "source": [
    "# Podemos verificar essa informação no info, mas, vamos visualizar o total de \n",
    "# valores nulos em cada coluna\n",
    "\n",
    "print(\"TOTAL DE VALORES NULOS DAS COLUNAS\")\n",
    "\n",
    "base_dados.isnull().sum()"
   ]
  },
  {
   "cell_type": "code",
   "execution_count": null,
   "metadata": {},
   "outputs": [
    {
     "data": {
      "text/html": [
       "<div>\n",
       "<style scoped>\n",
       "    .dataframe tbody tr th:only-of-type {\n",
       "        vertical-align: middle;\n",
       "    }\n",
       "\n",
       "    .dataframe tbody tr th {\n",
       "        vertical-align: top;\n",
       "    }\n",
       "\n",
       "    .dataframe thead th {\n",
       "        text-align: right;\n",
       "    }\n",
       "</style>\n",
       "<table border=\"1\" class=\"dataframe\">\n",
       "  <thead>\n",
       "    <tr style=\"text-align: right;\">\n",
       "      <th></th>\n",
       "      <th>Ano</th>\n",
       "      <th>Numero</th>\n",
       "    </tr>\n",
       "  </thead>\n",
       "  <tbody>\n",
       "    <tr>\n",
       "      <th>count</th>\n",
       "      <td>6454.000000</td>\n",
       "      <td>6454.000000</td>\n",
       "    </tr>\n",
       "    <tr>\n",
       "      <th>mean</th>\n",
       "      <td>2007.461729</td>\n",
       "      <td>108.293163</td>\n",
       "    </tr>\n",
       "    <tr>\n",
       "      <th>std</th>\n",
       "      <td>5.746654</td>\n",
       "      <td>190.812242</td>\n",
       "    </tr>\n",
       "    <tr>\n",
       "      <th>min</th>\n",
       "      <td>1998.000000</td>\n",
       "      <td>0.000000</td>\n",
       "    </tr>\n",
       "    <tr>\n",
       "      <th>25%</th>\n",
       "      <td>2002.000000</td>\n",
       "      <td>3.000000</td>\n",
       "    </tr>\n",
       "    <tr>\n",
       "      <th>50%</th>\n",
       "      <td>2007.000000</td>\n",
       "      <td>24.000000</td>\n",
       "    </tr>\n",
       "    <tr>\n",
       "      <th>75%</th>\n",
       "      <td>2012.000000</td>\n",
       "      <td>113.000000</td>\n",
       "    </tr>\n",
       "    <tr>\n",
       "      <th>max</th>\n",
       "      <td>2017.000000</td>\n",
       "      <td>998.000000</td>\n",
       "    </tr>\n",
       "  </tbody>\n",
       "</table>\n",
       "</div>"
      ],
      "text/plain": [
       "               Ano       Numero\n",
       "count  6454.000000  6454.000000\n",
       "mean   2007.461729   108.293163\n",
       "std       5.746654   190.812242\n",
       "min    1998.000000     0.000000\n",
       "25%    2002.000000     3.000000\n",
       "50%    2007.000000    24.000000\n",
       "75%    2012.000000   113.000000\n",
       "max    2017.000000   998.000000"
      ]
     },
     "execution_count": 15,
     "metadata": {},
     "output_type": "execute_result"
    }
   ],
   "source": [
    "# Vamos ver a análise descritiva do dataset\n",
    "# O método describe irá retornar:\n",
    "# count: Quantidade de valores de cada coluna. Valores nulos\n",
    "# não são considerados nessa contagem.\n",
    "# mean: A média dos valores de cada coluna\n",
    "# std: O desvio padrão dos valores de cada coluna\n",
    "# min: O valor minimo de cada coluna\n",
    "# 25%: 1° quartil representado por 25% dos dados de cada coluna\n",
    "# 50%: 2° quartil representado por 50% (mediana) dos dados de cada coluna\n",
    "# 75%: 3° quartil representado por 75% dos dados\n",
    "# max: O valor máximo de cada coluna.\n",
    "base_dados.describe()"
   ]
  },
  {
   "cell_type": "code",
   "execution_count": null,
   "metadata": {},
   "outputs": [
    {
     "name": "stdout",
     "output_type": "stream",
     "text": [
      "VERIFICANDO OS VALORES ÚNICOS DO DATASET\n"
     ]
    },
    {
     "data": {
      "text/plain": [
       "Ano         20\n",
       "Estado      23\n",
       "Mes         12\n",
       "Numero    1479\n",
       "Data        20\n",
       "dtype: int64"
      ]
     },
     "execution_count": 17,
     "metadata": {},
     "output_type": "execute_result"
    }
   ],
   "source": [
    "print(\"VERIFICANDO A QUANTIDADE DE VALORES ÚNICOS DO DATASET\")\n",
    "\n",
    "# O metodo nunique serve para contar a quantidade de valores únicos\n",
    "# de cada coluna.\n",
    "base_dados.nunique()"
   ]
  },
  {
   "cell_type": "code",
   "execution_count": null,
   "metadata": {},
   "outputs": [
    {
     "name": "stdout",
     "output_type": "stream",
     "text": [
      "VERIFICANDO OS VALORES ÚNICOS DO DATASET\n",
      "valores únicos da coluna  Ano :  [1998 1999 2000 2001 2002 2003 2004 2005 2006 2007 2008 2009 2010 2011\n",
      " 2012 2013 2014 2015 2016 2017]\n",
      "valores únicos da coluna  Estado :  ['Acre' 'Alagoas' 'Amapa' 'Amazonas' 'Bahia' 'Ceara' 'Distrito Federal'\n",
      " 'Espirito Santo' 'Goias' 'Maranhao' 'Mato Grosso' 'Minas Gerais' 'Pará'\n",
      " 'Paraiba' 'Pernambuco' 'Piau' 'Rio' 'Rondonia' 'Roraima' 'Santa Catarina'\n",
      " 'Sao Paulo' 'Sergipe' 'Tocantins']\n",
      "valores únicos da coluna  Mes :  ['Janeiro' 'Fevereiro' 'Março' 'Abril' 'Maio' 'Junho' 'Julho' 'Agosto'\n",
      " 'Setembro' 'Outubro' 'Novembro' 'Dezembro']\n",
      "valores únicos da coluna  Numero :  [  0.     10.     12.    ...   2.032 833.    623.   ]\n",
      "valores únicos da coluna  Data :  ['1998-01-01' '1999-01-01' '2000-01-01' '2001-01-01' '2002-01-01'\n",
      " '2003-01-01' '2004-01-01' '2005-01-01' '2006-01-01' '2007-01-01'\n",
      " '2008-01-01' '2009-01-01' '2010-01-01' '2011-01-01' '2012-01-01'\n",
      " '2013-01-01' '2014-01-01' '2015-01-01' '2016-01-01' '2017-01-01']\n"
     ]
    }
   ],
   "source": [
    "print(\"VERIFICANDO OS VALORES ÚNICOS DO DATASET\")\n",
    "\n",
    "# O método unique tem como objetivo retornar os valores unicos de uma coluna.\n",
    "# Como o método requer a especificação de uma coluna, vamos utiliza-lo em um\n",
    "# for para ele percorrer todas as colunas e retornar os valores de todas elas.\n",
    "for coluna in base_dados:\n",
    "    \n",
    "    print(\"valores únicos da coluna \",coluna, \": \", base_dados[coluna].unique())"
   ]
  },
  {
   "cell_type": "code",
   "execution_count": 26,
   "metadata": {},
   "outputs": [
    {
     "name": "stdout",
     "output_type": "stream",
     "text": [
      "VERIFICANDO OS TIPOS DE CADA COLUNA\n"
     ]
    },
    {
     "data": {
      "text/plain": [
       "Ano         int64\n",
       "Estado     object\n",
       "Mes        object\n",
       "Numero    float64\n",
       "Data       object\n",
       "dtype: object"
      ]
     },
     "execution_count": 26,
     "metadata": {},
     "output_type": "execute_result"
    }
   ],
   "source": [
    "print(\"VERIFICANDO OS TIPOS DE CADA COLUNA\")\n",
    "\n",
    "base_dados.dtypes"
   ]
  },
  {
   "cell_type": "code",
   "execution_count": 30,
   "metadata": {},
   "outputs": [
    {
     "name": "stdout",
     "output_type": "stream",
     "text": [
      "VERIFICANDO A QUANTIDADE DE VALORES INFINITOS PRESENTES NO DATASET\n",
      "Quantidade de valores infinitos:  0\n"
     ]
    }
   ],
   "source": [
    "# Contando valores infinitos da coluna 'Numero'\n",
    "\n",
    "print(\"VERIFICANDO A QUANTIDADE DE VALORES INFINITOS PRESENTES NO DATASET\")\n",
    "\n",
    "print(\"Quantidade de valores infinitos: \", (base_dados['Numero'] == float('inf')).sum())"
   ]
  },
  {
   "cell_type": "code",
   "execution_count": 31,
   "metadata": {},
   "outputs": [
    {
     "name": "stdout",
     "output_type": "stream",
     "text": [
      "QUANTIDADE DE VALORES DUPLICADOS\n"
     ]
    },
    {
     "data": {
      "text/plain": [
       "32"
      ]
     },
     "execution_count": 31,
     "metadata": {},
     "output_type": "execute_result"
    }
   ],
   "source": [
    "# Verificando se há valores duplicados\n",
    "\n",
    "print(\"QUANTIDADE DE VALORES DUPLICADOS\")\n",
    "base_dados.duplicated().sum()"
   ]
  },
  {
   "cell_type": "code",
   "execution_count": null,
   "metadata": {},
   "outputs": [
    {
     "data": {
      "text/html": [
       "<div>\n",
       "<style scoped>\n",
       "    .dataframe tbody tr th:only-of-type {\n",
       "        vertical-align: middle;\n",
       "    }\n",
       "\n",
       "    .dataframe tbody tr th {\n",
       "        vertical-align: top;\n",
       "    }\n",
       "\n",
       "    .dataframe thead th {\n",
       "        text-align: right;\n",
       "    }\n",
       "</style>\n",
       "<table border=\"1\" class=\"dataframe\">\n",
       "  <thead>\n",
       "    <tr style=\"text-align: right;\">\n",
       "      <th></th>\n",
       "      <th>Ano</th>\n",
       "      <th>Numero</th>\n",
       "    </tr>\n",
       "  </thead>\n",
       "  <tbody>\n",
       "    <tr>\n",
       "      <th>0</th>\n",
       "      <td>1998</td>\n",
       "      <td>20013.971</td>\n",
       "    </tr>\n",
       "    <tr>\n",
       "      <th>1</th>\n",
       "      <td>1999</td>\n",
       "      <td>26882.821</td>\n",
       "    </tr>\n",
       "    <tr>\n",
       "      <th>2</th>\n",
       "      <td>2000</td>\n",
       "      <td>27351.251</td>\n",
       "    </tr>\n",
       "    <tr>\n",
       "      <th>3</th>\n",
       "      <td>2001</td>\n",
       "      <td>29071.612</td>\n",
       "    </tr>\n",
       "    <tr>\n",
       "      <th>4</th>\n",
       "      <td>2002</td>\n",
       "      <td>37390.600</td>\n",
       "    </tr>\n",
       "    <tr>\n",
       "      <th>5</th>\n",
       "      <td>2003</td>\n",
       "      <td>42760.674</td>\n",
       "    </tr>\n",
       "    <tr>\n",
       "      <th>6</th>\n",
       "      <td>2004</td>\n",
       "      <td>38453.163</td>\n",
       "    </tr>\n",
       "    <tr>\n",
       "      <th>7</th>\n",
       "      <td>2005</td>\n",
       "      <td>35004.965</td>\n",
       "    </tr>\n",
       "    <tr>\n",
       "      <th>8</th>\n",
       "      <td>2006</td>\n",
       "      <td>33832.161</td>\n",
       "    </tr>\n",
       "    <tr>\n",
       "      <th>9</th>\n",
       "      <td>2007</td>\n",
       "      <td>33037.413</td>\n",
       "    </tr>\n",
       "    <tr>\n",
       "      <th>10</th>\n",
       "      <td>2008</td>\n",
       "      <td>29378.964</td>\n",
       "    </tr>\n",
       "    <tr>\n",
       "      <th>11</th>\n",
       "      <td>2009</td>\n",
       "      <td>39117.178</td>\n",
       "    </tr>\n",
       "    <tr>\n",
       "      <th>12</th>\n",
       "      <td>2010</td>\n",
       "      <td>37037.449</td>\n",
       "    </tr>\n",
       "    <tr>\n",
       "      <th>13</th>\n",
       "      <td>2011</td>\n",
       "      <td>34633.545</td>\n",
       "    </tr>\n",
       "    <tr>\n",
       "      <th>14</th>\n",
       "      <td>2012</td>\n",
       "      <td>40084.860</td>\n",
       "    </tr>\n",
       "    <tr>\n",
       "      <th>15</th>\n",
       "      <td>2013</td>\n",
       "      <td>35146.118</td>\n",
       "    </tr>\n",
       "    <tr>\n",
       "      <th>16</th>\n",
       "      <td>2014</td>\n",
       "      <td>39621.183</td>\n",
       "    </tr>\n",
       "    <tr>\n",
       "      <th>17</th>\n",
       "      <td>2015</td>\n",
       "      <td>41208.292</td>\n",
       "    </tr>\n",
       "    <tr>\n",
       "      <th>18</th>\n",
       "      <td>2016</td>\n",
       "      <td>42212.229</td>\n",
       "    </tr>\n",
       "    <tr>\n",
       "      <th>19</th>\n",
       "      <td>2017</td>\n",
       "      <td>36685.624</td>\n",
       "    </tr>\n",
       "  </tbody>\n",
       "</table>\n",
       "</div>"
      ],
      "text/plain": [
       "     Ano     Numero\n",
       "0   1998  20013.971\n",
       "1   1999  26882.821\n",
       "2   2000  27351.251\n",
       "3   2001  29071.612\n",
       "4   2002  37390.600\n",
       "5   2003  42760.674\n",
       "6   2004  38453.163\n",
       "7   2005  35004.965\n",
       "8   2006  33832.161\n",
       "9   2007  33037.413\n",
       "10  2008  29378.964\n",
       "11  2009  39117.178\n",
       "12  2010  37037.449\n",
       "13  2011  34633.545\n",
       "14  2012  40084.860\n",
       "15  2013  35146.118\n",
       "16  2014  39621.183\n",
       "17  2015  41208.292\n",
       "18  2016  42212.229\n",
       "19  2017  36685.624"
      ]
     },
     "execution_count": 45,
     "metadata": {},
     "output_type": "execute_result"
    }
   ],
   "source": [
    "# Vamos tentar identificar quantas queimadas tivemos ao longo dos anos\n",
    "\n",
    "# Vamos agrupar os dados por ano e usar o método sum, para somar o total \n",
    "# de queimadas em cada ano.\n",
    "\n",
    "# Por algum motivo, o agrupamento não estava funcionando muito bem\n",
    "# já que o sum também estava contando os objects. Então resolvi\n",
    "# filtrar os tipos que serão selecionados no agrupamento.\n",
    "\n",
    "# O metodo select_dtypes ira filtrar os tipos de dados que você quer\n",
    "# utilizar \n",
    "colunas_numericas = base_dados.select_dtypes(include=[int, float])\n",
    "\n",
    "# Agrupamento dos dados por ano. O método reset_index()é usado após o agrupamento para restaurar o índice para o formato padrão (sequencial numérico), já que após o agrupamento, o Anose torna o índice do DataFrame. Ele também move o índice de volta para uma coluna regular, caso necessário.\"\n",
    "colunas_numericas.groupby(by=['Ano']).sum().reset_index()\n"
   ]
  },
  {
   "cell_type": "code",
   "execution_count": 54,
   "metadata": {},
   "outputs": [
    {
     "data": {
      "text/plain": [
       "Text(0, 0.5, 'Periodo')"
      ]
     },
     "execution_count": 54,
     "metadata": {},
     "output_type": "execute_result"
    },
    {
     "data": {
      "image/png": "[encoded data removed]",
      "text/plain": [
       "<Figure size 1200x500 with 1 Axes>"
      ]
     },
     "metadata": {},
     "output_type": "display_data"
    }
   ],
   "source": [
    "# Agora vamos analisar esse agrupamento usando um grafico de linhas da biblioteca seaborn\n",
    "\n",
    "# grafico\n",
    "\n",
    "# Tamanho da imagem do gráfico\n",
    "plt.figure(figsize=(12,5))\n",
    "\n",
    "# titulo do gráfico alinhado a esquerda com tamnho 14\n",
    "plt.title('Total de Incêndios no Brasil de 1997 a 2017', loc='left', fontsize=14)\n",
    "\n",
    "# Lineplot: Metodo da classe seaborn que plota gráficos de linhas\n",
    "# data: base de dados análisada\n",
    "# x: valor do eixo x do gráfico (no nosso caso será a coluna 'Numero')\n",
    "# y: valor do eixo y do gráfico (no nosso caso será a coluna 'Ano)\n",
    "# color: cor da linha do grafico\n",
    "# lw: largura da linha do gráfico\n",
    "# alpha: define a transparência da linha\n",
    "# estimator: Serve para agregar dados \n",
    "\n",
    "sns.lineplot(data=colunas_numericas, x='Ano', y='Numero', estimator='sum', lw=2, color = '#ff5555', alpha = 0.85)\n",
    "\n",
    "# rótulo do eixo x\n",
    "plt.xlabel('Quantidade')\n",
    "\n",
    "# Rótulo do eixo y\n",
    "plt.ylabel('Periodo')"
   ]
  },
  {
   "cell_type": "code",
   "execution_count": 86,
   "metadata": {},
   "outputs": [
    {
     "name": "stderr",
     "output_type": "stream",
     "text": [
      "C:\\Users\\caike\\AppData\\Local\\Temp\\ipykernel_10132\\1156748908.py:26: FutureWarning: \n",
      "\n",
      "Passing `palette` without assigning `hue` is deprecated and will be removed in v0.14.0. Assign the `x` variable to `hue` and set `legend=False` for the same effect.\n",
      "\n",
      "  sns.boxplot(data=analise_boxplot, x = 'Mes', y = 'Numero',palette='coolwarm', saturation=1, width=0.5, linewidth=2, order=['Janeiro', 'Fevereiro', 'Março', 'Abril', 'Maio', 'Junho', 'Julho', 'Agosto', 'Setembro', 'Outubro', 'Novembro', 'Dezembro'])\n"
     ]
    },
    {
     "data": {
      "text/plain": [
       "Text(0, 0.5, 'Número de Incêndios')"
      ]
     },
     "execution_count": 86,
     "metadata": {},
     "output_type": "execute_result"
    },
    {
     "data": {
      "image/png": "[encoded data removed]",
      "text/plain": [
       "<Figure size 1200x500 with 1 Axes>"
      ]
     },
     "metadata": {},
     "output_type": "display_data"
    }
   ],
   "source": [
    "# Vamos usar um boxplot para verificar qual mes possuiu o maior numero de queimadas\n",
    "# Primeiro vamos agrupar os dados por mes e ano\n",
    "analise_boxplot = base_dados.groupby(by= ['Ano', 'Mes']).sum().reset_index()\n",
    "\n",
    "# Agora que já agrupamos, vamos criar o grafico boxplot\n",
    "\n",
    "# Tamanho da imagem do gráfico\n",
    "plt.figure(figsize=(12,5))\n",
    "\n",
    "# Titulo do grafico alinhado a esquerda com tamanho 14\n",
    "plt.title('Incêndios por mes', loc='left', fontsize=14)\n",
    "\n",
    "# Criação do boxplot\n",
    "# boxplot: metodo seaborn que cria graficos boxplots\n",
    "# data: Base de dados análisada\n",
    "# x: valores do eixo x: valores da coluna 'Mes'\n",
    "# y: Valores do eixo Y: Valores da coluna 'Ano'.\n",
    "# order: serve para ordenar dados categóricos (rótulos, textos, etc) na ordem\n",
    "# que acharmos melhor, nesse caso, vamos utlizar para ordenar os meses no\n",
    "# eixo x. \n",
    "# pallete: ira definir a paleta de cores\n",
    "# saturation: Irá definir a saturação das cores\n",
    "# width: define a largura das caixas \n",
    "# linewidth: define a largura das linhas que formam o contorno das caixas\n",
    "\n",
    "sns.boxplot(data=analise_boxplot, x = 'Mes', y = 'Numero',palette='coolwarm', saturation=1, width=0.5, linewidth=2, order=['Janeiro', 'Fevereiro', 'Março', 'Abril', 'Maio', 'Junho', 'Julho', 'Agosto', 'Setembro', 'Outubro', 'Novembro', 'Dezembro'])\n",
    "\n",
    "\n",
    "# Rótulos do eixo x\n",
    "plt.xlabel('Mês')\n",
    "\n",
    "# Rótulo do eixo y\n",
    "plt.ylabel('Número de Incêndios')\n",
    "\n"
   ]
  },
  {
   "cell_type": "code",
   "execution_count": null,
   "metadata": {},
   "outputs": [],
   "source": []
  }
 ],
 "metadata": {
  "kernelspec": {
   "display_name": "Python 3",
   "language": "python",
   "name": "python3"
  },
  "language_info": {
   "codemirror_mode": {
    "name": "ipython",
    "version": 3
   },
   "file_extension": ".py",
   "mimetype": "text/x-python",
   "name": "python",
   "nbconvert_exporter": "python",
   "pygments_lexer": "ipython3",
   "version": "3.12.8"
  }
 },
 "nbformat": 4,
 "nbformat_minor": 2
}
